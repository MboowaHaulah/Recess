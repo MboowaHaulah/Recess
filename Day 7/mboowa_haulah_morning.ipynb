{
 "cells": [
  {
   "attachments": {},
   "cell_type": "markdown",
   "metadata": {},
   "source": [
    "# python for datascience\n",
    "\n",
    "# numPy-nuumerical python -help u deal with arrays effectively\n",
    "#pandas -help in data cleaning ,transformation.merging, filtering\n",
    "\n",
    "#DATA VISUALIZATION\n",
    "# plotting-use a lib called matplotlib , create graphs\n",
    "\n"
   ]
  },
  {
   "cell_type": "code",
   "execution_count": 19,
   "metadata": {},
   "outputs": [
    {
     "name": "stdout",
     "output_type": "stream",
     "text": [
      "             Timestamp What is your gender?  Age What is your emotion?  \\\n",
      "0  05/07/2023 09:38:39                 Male   21               Content   \n",
      "1  05/07/2023 09:38:57        Marabou stock   45                 Weird   \n",
      "2  05/07/2023 09:39:09              Female    20                 Happy   \n",
      "3  05/07/2023 09:39:12                 Male   21                 Happy   \n",
      "4  05/07/2023 09:39:14               Female   21                 Happy   \n",
      "\n",
      "  Year of birth What is your CGPA? Do you have a Girl Friend or BOY Friend  \\\n",
      "0          2002               4.22                                      No   \n",
      "1          2100                8.9                                     Yes   \n",
      "2          2002               3.98                                      No   \n",
      "3          2003               4.37                                      No   \n",
      "4          2002               3.63                                      No   \n",
      "\n",
      "  Do you have Depression? Do you have Anxiety? Do you have Panic attack?  \\\n",
      "0                      No                  Yes                       Yes   \n",
      "1                     Yes                  Yes                       Yes   \n",
      "2                      No                  Yes                       Yes   \n",
      "3                      No                   No                        No   \n",
      "4                      No                   No                        No   \n",
      "\n",
      "  Did you have seek any specialist for a treatment?   \n",
      "0                                                Yes  \n",
      "1                                                 No  \n",
      "2                                                 No  \n",
      "3                                               Nope  \n",
      "4                                                 No  \n"
     ]
    }
   ],
   "source": [
    "\n",
    "import pandas as pd\n",
    "\n",
    "df = pd.read_csv(\"./mboowa.csv\")\n",
    "print(df.head(5))"
   ]
  },
  {
   "attachments": {},
   "cell_type": "markdown",
   "metadata": {},
   "source": [
    " concepts in data science\n",
    "# Data \n",
    "# data mining\n",
    "# machine learning\n",
    "# statistical analysis\n",
    "# data visualization\n",
    "# big data\n",
    "# predictive analysis\n"
   ]
  },
  {
   "cell_type": "code",
   "execution_count": 20,
   "metadata": {},
   "outputs": [
    {
     "name": "stdout",
     "output_type": "stream",
     "text": [
      "             Timestamp What is your gender?  Age What is your emotion?  \\\n",
      "0  05/07/2023 09:38:39                 Male   21               Content   \n",
      "1  05/07/2023 09:38:57        Marabou stock   45                 Weird   \n",
      "2  05/07/2023 09:39:09              Female    20                 Happy   \n",
      "3  05/07/2023 09:39:12                 Male   21                 Happy   \n",
      "4  05/07/2023 09:39:14               Female   21                 Happy   \n",
      "\n",
      "  Year of birth What is your CGPA? Do you have a Girl Friend or BOY Friend  \\\n",
      "0          2002               4.22                                      No   \n",
      "1          2100                8.9                                     Yes   \n",
      "2          2002               3.98                                      No   \n",
      "3          2003               4.37                                      No   \n",
      "4          2002               3.63                                      No   \n",
      "\n",
      "  Do you have Depression? Do you have Anxiety? Do you have Panic attack?  \\\n",
      "0                      No                  Yes                       Yes   \n",
      "1                     Yes                  Yes                       Yes   \n",
      "2                      No                  Yes                       Yes   \n",
      "3                      No                   No                        No   \n",
      "4                      No                   No                        No   \n",
      "\n",
      "  Did you have seek any specialist for a treatment?   \n",
      "0                                                Yes  \n",
      "1                                                 No  \n",
      "2                                                 No  \n",
      "3                                               Nope  \n",
      "4                                                 No  \n"
     ]
    }
   ],
   "source": [
    "import pandas as pd\n",
    "\n",
    "df = pd.read_csv(\"./mboowa.csv\")\n",
    "print(df.head())"
   ]
  },
  {
   "attachments": {},
   "cell_type": "markdown",
   "metadata": {},
   "source": [
    "\n",
    "#Understanding data science\n",
    "    #problem indentification\n",
    "# data acquisitation- kaggle databses,data validation, cleaning, processing \n",
    "\n",
    "#EDA Data exploratory Analysis"
   ]
  },
  {
   "cell_type": "code",
   "execution_count": 4,
   "metadata": {},
   "outputs": [],
   "source": [
    "# import libraries\n",
    "# import numpy as numpy\n",
    "# import pandas as pd\n",
    "# import matplotlib.pylot as plt\n",
    "# import seaborn as sns\n",
    "# control display of seaborn data\n",
    "# pd.options.display.max_columns=50\n",
    "# sns.set(style=\"darkgrid\",rc={\"axes.facecolor\":'#CAFIDE'})\n",
    "\n"
   ]
  },
  {
   "cell_type": "code",
   "execution_count": 3,
   "metadata": {},
   "outputs": [
    {
     "name": "stdout",
     "output_type": "stream",
     "text": [
      "2.0.3\n"
     ]
    }
   ],
   "source": [
    "import pandas as pd\n",
    "print (pd.__version__)"
   ]
  },
  {
   "cell_type": "code",
   "execution_count": 11,
   "metadata": {},
   "outputs": [],
   "source": [
    "import pandas as pd\n",
    "\n",
    "df = pd.read_csv(\"./mboowa.csv\")"
   ]
  },
  {
   "cell_type": "code",
   "execution_count": 12,
   "metadata": {},
   "outputs": [
    {
     "name": "stdout",
     "output_type": "stream",
     "text": [
      "              Timestamp What is your gender?  Age What is your emotion?  Year of birth What is your CGPA? Do you have a Girl Friend or BOY Friend Do you have Depression? Do you have Anxiety? Do you have Panic attack? Did you have seek any specialist for a treatment? \n",
      "0   05/07/2023 09:38:39                 Male   21               Content           2002               4.22                                      No                      No                  Yes                       Yes                                                Yes\n",
      "1   05/07/2023 09:38:57        Marabou stock   45                 Weird           2100                8.9                                     Yes                     Yes                  Yes                       Yes                                                 No\n",
      "2   05/07/2023 09:39:09              Female    20                 Happy           2002               3.98                                      No                      No                  Yes                       Yes                                                 No\n",
      "3   05/07/2023 09:39:12                 Male   21                 Happy           2003               4.37                                      No                      No                   No                        No                                               Nope\n",
      "4   05/07/2023 09:39:14               Female   21                 Happy           2002               3.63                                      No                      No                   No                        No                                                 No\n",
      "5   05/07/2023 09:39:20               Female   23                Happy            2000                3.8                                      No                      No                   No                        No                                                 No\n",
      "6   05/07/2023 09:39:21               female   21            irritated            2001               3.88                                      no                      no                   no                      yes                                                 yes\n",
      "7   05/07/2023 09:39:23              Female    22  In a state of wonder           2001               3.79                                      No                      No                   No                        No                                               Nope\n",
      "8   05/07/2023 09:39:26                 Male   22                   Sad           2001                4.7                                     Yes                     Yes                   No                        No                                                 No\n",
      "9   05/07/2023 09:39:27               Female   20                 happy           2002                  4                                      No                      No                   No                       Yes                                                YES\n",
      "10  05/07/2023 09:39:28                 Male   24                 Happy           1998                3.9                                    Nope                    Nope                   No                     Naaah                                                 No\n",
      "11  05/07/2023 09:39:33               Female   21                 Moody           2001               3.56                                      No                      No                   No                        No                                                 No\n",
      "12  05/07/2023 09:39:38                 Male   25                 Happy           1998                  5                                     Yes                      No             I'm calm                        No                                                 No\n",
      "13  05/07/2023 09:39:40                 MALE   22                  fine           2001                  3                                     yes              don't know                  yes                        no                                                yes\n",
      "14  05/07/2023 09:39:45               FEMALE   22         TIRED FOR NOW           2001                  4                                      NO                      NO                KINDA                        NO                                                 NO\n",
      "15  05/07/2023 09:39:46                 Male   21                 Jolly           2002                4.5                                      No                      No                   No                        No                                                 No\n",
      "16  05/07/2023 09:39:46               Female   21                 happy           2002               4.68                                      no                      no                   no                        no                                                 no\n",
      "17  05/07/2023 09:39:47                 Male   22            Frustrated           2001                  5                                      No                      No                   No                        No                                                 No\n",
      "18  05/07/2023 09:39:49                 Male   28               Anxious           1995               4.28                                      No                      No                  Yes                       Yes                                                 No\n",
      "19  05/07/2023 09:39:50                 Male   21                   Sad           2002               3.76                                      No                      No                   No                        No                                                 No\n",
      "20  05/07/2023 09:39:54               FEMALE   19                 HAPPY           2004                2.1                                     YES                   MAYBE                  YES                        NO                                                 NO\n",
      "21  05/07/2023 09:39:56                 Male   22                 Happy           2000                3.7                                     Yes                      No                  yes                        No                                                 No\n",
      "22  05/07/2023 09:40:00                 Male   25                 Happy           1999                3.5                                      no                      no                   no                        no                                                yes\n",
      "23  05/07/2023 09:40:00                 male   20                  calm           2002                3.7                                     yes                      no                   no                        no                                                 no\n",
      "24  05/07/2023 09:40:01               Female   21                   sad           2001                3.8                                      no                      no                  yes                        no                                                 no\n",
      "25  05/07/2023 09:40:02               Female   20                 Happy           2022            4......                                      no                      no                   no                       yes                                                 no\n",
      "26  05/07/2023 09:40:08                 Male   21                   sad           2002                3.6                                      no                      no                   no                        no                                                 no\n",
      "27  05/07/2023 09:40:08                 Male   22              Not sure           2001               3.74                                      No                     Yes                  Yes                        No                                                 No\n",
      "28  05/07/2023 09:40:10              Female    21                Happy            2002               3.67                                      No                      No                  No                         No                                                Yes\n",
      "29  05/07/2023 09:40:10                 Male   22       I hate nosense            2001                3.5                                      No                     Yes                   No                        No                                                Yes\n",
      "30  05/07/2023 09:40:12                 Male   22                Joyful           2001               4.08                                     Yes                      No                   No                        No                                                 NO\n",
      "31  05/07/2023 09:40:13               Female   21           Nonchalant            2002                4.5                                     Yes                      No                   No                        No                                                 No\n",
      "32  05/07/2023 09:40:16                 male   23               excited           2000               4.16                                     yes                      no                   no                        no                                                 no\n",
      "33  05/07/2023 09:40:25                 male   21              stressed           2002                4.4                                     yes                      no                  yes                        no                                                 no\n",
      "34  05/07/2023 09:40:26                 Male   21               Relaxed           2001                4.5                                      No                      No                   No                        No                                                 No\n",
      "35  05/07/2023 09:40:27                 Male   22                Angry            1999                3.5                                    Yes                       No                   No                       No                                                  No\n",
      "36  05/07/2023 09:40:33                 male   23                   sad           1999                  4                                      no                      no                   no                        no                                                 no\n",
      "37  05/07/2023 09:40:34                 Male   23               leaning           2000                4.6                                      no                     yes                   no                        no                                                yes\n",
      "38  05/07/2023 09:40:40               Female   21             Disgusted           2002               3.92                                      No                      No                  Yes                        No                                                 No\n",
      "39  05/07/2023 09:40:42                 male   21                 happy           2002               3.87                                     yes                      no                   no                        no                                                 no\n",
      "40  05/07/2023 09:40:42              Female    20                 Tired           2002                1.3                                      No                      No                   No                       Yes                                                 No\n",
      "41  05/07/2023 09:40:46                 male   21                 happy           2001               4.65                                      no                     yes                  yes                        no                                                 no\n",
      "42  05/07/2023 09:40:47                 male   23                 happy           2000                3.5                                     yes                      no                  yes                        no                                                 no\n",
      "43  05/07/2023 09:40:54                 Male   20                   Sad           2001               4.74                                     Yes                     Yes                   No                        No                                                 No\n",
      "44  05/07/2023 09:40:59                 Male   21                   sad           2002                  4                                      no                      no                   no                        no                                                 no\n",
      "45  05/07/2023 09:41:00               female   21                 happy           2001               4.03                                      no                     yes                  yes                       yes                                                 no\n",
      "46  05/07/2023 09:41:01                 Male   21                 Upset           2002               3.71                                     Yes                      No                   No                        No                                                 No\n",
      "47  05/07/2023 09:41:05              Female    22                 Anger           2001                4.1                               Am a girl                      No                  Yes                        No                                                 No\n",
      "48  05/07/2023 09:41:06                 Male   50                   Sad           1970                  5                                      No                      Jo                   No                       Yes                                                 No\n",
      "49  05/07/2023 09:41:07                 Male   19                 angry           2004                2.5                                      no                    none                 none                      none                                                yes\n",
      "50  05/07/2023 09:41:08                 Male   21                Happy            2001                  2                                      No                      No                 Yes                         No                                                 No\n",
      "51  05/07/2023 09:41:11                 Male   23                  Sad            2001                  4                                      No                     Yes                   No                        No                                                 No\n",
      "52  05/07/2023 09:41:18               female   21                 happy           2002                3.4                                      no                      no                   no                        no                                                 no\n",
      "53  05/07/2023 09:41:19                 Male   21                 happy           2002               4.26                                     Yes                      No                  Yes                        No                                                 No\n",
      "54  05/07/2023 09:41:20                 Male   20                Lonely           2002               3.75                                      No                      No                   No                        No                                                 No\n",
      "55  05/07/2023 09:41:25                 Male   22             Happiness           2000                4.1                                      No                      No                   No                        No                                                 No\n",
      "56  05/07/2023 09:41:30              Female    21                 Happy           2002                3.4                                      No                     Yes                   No                       Yes                                                 No\n",
      "57  05/07/2023 09:41:31                  Yes   23                Happy            2000                4.2                                      No                      No                   No                        No                                                 No\n",
      "58  05/07/2023 09:41:33                 male   21                sleepy           2002                3.6                                      no                      no                   no                        no                                                yes\n",
      "59  05/07/2023 09:41:35               Female   21                 tired           2002               3.85                                      no                      no            sometimes                        no                                                 no\n",
      "60  05/07/2023 09:41:36                 Male   23                stress           1999                3.1                                     yes                      no                   no                        no                                                 no\n",
      "61  05/07/2023 09:41:40                 Male   21                   Sad           2002               4.46                                      No                Probably            Sometimes                        No                                                 No\n",
      "62  05/07/2023 09:41:41               Female   21                 Happy           2002               3.18                                     Yes                      No                   No                        No                                                Yes\n",
      "63  05/07/2023 09:41:42                 male   21               unhappy           2002                  1                                      no                     yes                  yes                        no                                                 no\n",
      "64  05/07/2023 09:41:47              Female    21                   Sad           2001                  5                              Am a girl                       No                   No                     YesNo                                                 No\n",
      "65  05/07/2023 09:41:47               Female   21                 Happy           2002                3.8                                      No                      No                   No                       Yes                                                Yes\n",
      "66  05/07/2023 09:41:56               Female   22                 Happy           2001                4.5                                     Yes                      No                  Yes                        NO                                                Yes\n",
      "67  05/07/2023 09:41:58                 Male   30                   Sad     18/11/1993                2.5                                     yes                      no                  yes                        no                                                yes\n",
      "68  05/07/2023 09:42:04               Female   21                 Happy           2002               3.66                                      No                      No                   No                        No                                                 No\n",
      "69  05/07/2023 09:42:15                 male   22                 Happy           2001                4.8                                     Yes                    abit              not so                      never                                                yes\n",
      "70  05/07/2023 09:42:17               Female   21                Happy            2001                  4                                      No                      No                  Yes                        No                                                Yes\n",
      "71  05/07/2023 09:42:39                 Male   21                 happy           2002                4.9                                      No                      No                   No                        No                                                 No\n",
      "72  05/07/2023 09:42:48               female   23                 happy      5.10.2000                  3                                      no                      no                  yes                        no                                                 no\n",
      "73  05/07/2023 09:43:05               female   20                 happy           2002                4.2                                     yes                      no                  yes                        no                                                 no\n",
      "74  05/07/2023 09:43:05               Female   20                 Happy           2002                4.2                                      No                      No                   No                        No                                                 No\n",
      "75  05/07/2023 09:43:08                 Male   21                 happy           2002                4.5                                     yes                      No                   no                        no                                                 no\n",
      "76  05/07/2023 09:43:22                 Male   23                happy            2000               4.25                                      No                      No                   No                        No                                                 No\n",
      "77  05/07/2023 09:43:36               female   20                  care           2003               4.52                                     yes                      no             swimming                        no                                                 no\n",
      "78  05/07/2023 09:43:56                 Male   21                   NaN           2002                3.5                                     Yes                    Nope                 Nope                     Nope                                                Nope\n",
      "79  05/07/2023 09:44:09              Female    20               Afraid            2003                3.9                                      No                      No                  Yes                        No                                                 No\n",
      "80  05/07/2023 09:44:14                 Male   22                Scared   10th/04/2001                  5                                     Yes                      No                   No                        No                                                Yes\n",
      "81  05/07/2023 09:44:15                 Male   21                HAPPY            2002                3.8                                      NO                     NO                    NO                        NO                                                 NO\n",
      "82  05/07/2023 09:44:35              Female    25                Happy            1998                3.4                                     Yes                      No                   No                       Yes                                                 No\n",
      "83  05/07/2023 09:45:13                 male   28                 angry           1995               3.11                                      no                      no                  yes                        no                                                yes\n",
      "84  05/07/2023 09:45:38              Female    20                   Sad           2003                3.5                                      No                      No                   No                        No                                                No \n",
      "85  05/07/2023 09:45:40                    M   22                 Happy           2001               3.79                                     Yes                      No                  Yes                        No                                                 No\n",
      "86  05/07/2023 09:49:52               female   21               excited           2002               4.83                                      no                      no                   no                       yes                                                 no\n",
      "87  05/07/2023 09:51:39              Female    22                   Joy           2001               2.79                                      No                      No            A little                         No                                                 No\n",
      "88  05/07/2023 09:51:52               Female   20                 happy           2002                  4                                      no                      no                   no                        no                                                 no\n",
      "89  05/07/2023 09:52:27               Female   21               Lonely   1st July 2002                3.3                                      No                      No                   No                        No                                                 No\n",
      "90  05/07/2023 09:52:57                 male   28                 happy           1995                2.3                                     yes                     yes                   no                        no                                                yes\n",
      "91  05/07/2023 09:53:52                 Male   22                 panic           2001               3.78                                     yes                     yes                  yes                       yes                                                yes\n",
      "92  05/07/2023 09:53:56              Female    68                   Sad           1953                4.8                                      No                     Yes                  Yes                       Yes                                                Yes\n",
      "93  05/07/2023 09:54:13                 Male   29               Hopeful           1994   I don't know yet              Sure, multiple girlfriends                      No                   No                        No                                                 No\n",
      "94  05/07/2023 09:54:28                 Male   22      Fighting poverty           2001               3.12                Girl friends are thieves                     Yes                  Yes                        No                                                 No\n",
      "95  05/07/2023 09:54:36                 Male   23          good and bad           2000                3.5                    Namiiro Zahara Bidin                      No                   No                        No                                                 No\n",
      "96  05/07/2023 09:54:52                 male   30                hunger           2023                  5                                     ARI                      no                 yeah                       nah                                               yeah\n"
     ]
    }
   ],
   "source": [
    "import pandas as pd\n",
    "\n",
    "df = pd.read_csv(\"./mboowa.csv\")\n",
    "print(df.to_string())"
   ]
  },
  {
   "attachments": {},
   "cell_type": "markdown",
   "metadata": {},
   "source": [
    "NUMBER OF ROWS"
   ]
  },
  {
   "cell_type": "code",
   "execution_count": 13,
   "metadata": {},
   "outputs": [
    {
     "name": "stdout",
     "output_type": "stream",
     "text": [
      "60\n"
     ]
    }
   ],
   "source": [
    "import pandas as pd\n",
    "\n",
    "print(pd.options.display.max_rows)"
   ]
  },
  {
   "attachments": {},
   "cell_type": "markdown",
   "metadata": {},
   "source": [
    "REMOVING NULLS"
   ]
  },
  {
   "cell_type": "code",
   "execution_count": 16,
   "metadata": {},
   "outputs": [
    {
     "name": "stdout",
     "output_type": "stream",
     "text": [
      "              Timestamp What is your gender?  Age What is your emotion?  Year of birth What is your CGPA? Do you have a Girl Friend or BOY Friend Do you have Depression? Do you have Anxiety? Do you have Panic attack? Did you have seek any specialist for a treatment? \n",
      "0   05/07/2023 09:38:39                 Male   21               Content           2002               4.22                                      No                      No                  Yes                       Yes                                                Yes\n",
      "1   05/07/2023 09:38:57        Marabou stock   45                 Weird           2100                8.9                                     Yes                     Yes                  Yes                       Yes                                                 No\n",
      "2   05/07/2023 09:39:09              Female    20                 Happy           2002               3.98                                      No                      No                  Yes                       Yes                                                 No\n",
      "3   05/07/2023 09:39:12                 Male   21                 Happy           2003               4.37                                      No                      No                   No                        No                                               Nope\n",
      "4   05/07/2023 09:39:14               Female   21                 Happy           2002               3.63                                      No                      No                   No                        No                                                 No\n",
      "5   05/07/2023 09:39:20               Female   23                Happy            2000                3.8                                      No                      No                   No                        No                                                 No\n",
      "6   05/07/2023 09:39:21               female   21            irritated            2001               3.88                                      no                      no                   no                      yes                                                 yes\n",
      "7   05/07/2023 09:39:23              Female    22  In a state of wonder           2001               3.79                                      No                      No                   No                        No                                               Nope\n",
      "8   05/07/2023 09:39:26                 Male   22                   Sad           2001                4.7                                     Yes                     Yes                   No                        No                                                 No\n",
      "9   05/07/2023 09:39:27               Female   20                 happy           2002                  4                                      No                      No                   No                       Yes                                                YES\n",
      "10  05/07/2023 09:39:28                 Male   24                 Happy           1998                3.9                                    Nope                    Nope                   No                     Naaah                                                 No\n",
      "11  05/07/2023 09:39:33               Female   21                 Moody           2001               3.56                                      No                      No                   No                        No                                                 No\n",
      "12  05/07/2023 09:39:38                 Male   25                 Happy           1998                  5                                     Yes                      No             I'm calm                        No                                                 No\n",
      "13  05/07/2023 09:39:40                 MALE   22                  fine           2001                  3                                     yes              don't know                  yes                        no                                                yes\n",
      "14  05/07/2023 09:39:45               FEMALE   22         TIRED FOR NOW           2001                  4                                      NO                      NO                KINDA                        NO                                                 NO\n",
      "15  05/07/2023 09:39:46                 Male   21                 Jolly           2002                4.5                                      No                      No                   No                        No                                                 No\n",
      "16  05/07/2023 09:39:46               Female   21                 happy           2002               4.68                                      no                      no                   no                        no                                                 no\n",
      "17  05/07/2023 09:39:47                 Male   22            Frustrated           2001                  5                                      No                      No                   No                        No                                                 No\n",
      "18  05/07/2023 09:39:49                 Male   28               Anxious           1995               4.28                                      No                      No                  Yes                       Yes                                                 No\n",
      "19  05/07/2023 09:39:50                 Male   21                   Sad           2002               3.76                                      No                      No                   No                        No                                                 No\n",
      "20  05/07/2023 09:39:54               FEMALE   19                 HAPPY           2004                2.1                                     YES                   MAYBE                  YES                        NO                                                 NO\n",
      "21  05/07/2023 09:39:56                 Male   22                 Happy           2000                3.7                                     Yes                      No                  yes                        No                                                 No\n",
      "22  05/07/2023 09:40:00                 Male   25                 Happy           1999                3.5                                      no                      no                   no                        no                                                yes\n",
      "23  05/07/2023 09:40:00                 male   20                  calm           2002                3.7                                     yes                      no                   no                        no                                                 no\n",
      "24  05/07/2023 09:40:01               Female   21                   sad           2001                3.8                                      no                      no                  yes                        no                                                 no\n",
      "25  05/07/2023 09:40:02               Female   20                 Happy           2022            4......                                      no                      no                   no                       yes                                                 no\n",
      "26  05/07/2023 09:40:08                 Male   21                   sad           2002                3.6                                      no                      no                   no                        no                                                 no\n",
      "27  05/07/2023 09:40:08                 Male   22              Not sure           2001               3.74                                      No                     Yes                  Yes                        No                                                 No\n",
      "28  05/07/2023 09:40:10              Female    21                Happy            2002               3.67                                      No                      No                  No                         No                                                Yes\n",
      "29  05/07/2023 09:40:10                 Male   22       I hate nosense            2001                3.5                                      No                     Yes                   No                        No                                                Yes\n",
      "30  05/07/2023 09:40:12                 Male   22                Joyful           2001               4.08                                     Yes                      No                   No                        No                                                 NO\n",
      "31  05/07/2023 09:40:13               Female   21           Nonchalant            2002                4.5                                     Yes                      No                   No                        No                                                 No\n",
      "32  05/07/2023 09:40:16                 male   23               excited           2000               4.16                                     yes                      no                   no                        no                                                 no\n",
      "33  05/07/2023 09:40:25                 male   21              stressed           2002                4.4                                     yes                      no                  yes                        no                                                 no\n",
      "34  05/07/2023 09:40:26                 Male   21               Relaxed           2001                4.5                                      No                      No                   No                        No                                                 No\n",
      "35  05/07/2023 09:40:27                 Male   22                Angry            1999                3.5                                    Yes                       No                   No                       No                                                  No\n",
      "36  05/07/2023 09:40:33                 male   23                   sad           1999                  4                                      no                      no                   no                        no                                                 no\n",
      "37  05/07/2023 09:40:34                 Male   23               leaning           2000                4.6                                      no                     yes                   no                        no                                                yes\n",
      "38  05/07/2023 09:40:40               Female   21             Disgusted           2002               3.92                                      No                      No                  Yes                        No                                                 No\n",
      "39  05/07/2023 09:40:42                 male   21                 happy           2002               3.87                                     yes                      no                   no                        no                                                 no\n",
      "40  05/07/2023 09:40:42              Female    20                 Tired           2002                1.3                                      No                      No                   No                       Yes                                                 No\n",
      "41  05/07/2023 09:40:46                 male   21                 happy           2001               4.65                                      no                     yes                  yes                        no                                                 no\n",
      "42  05/07/2023 09:40:47                 male   23                 happy           2000                3.5                                     yes                      no                  yes                        no                                                 no\n",
      "43  05/07/2023 09:40:54                 Male   20                   Sad           2001               4.74                                     Yes                     Yes                   No                        No                                                 No\n",
      "44  05/07/2023 09:40:59                 Male   21                   sad           2002                  4                                      no                      no                   no                        no                                                 no\n",
      "45  05/07/2023 09:41:00               female   21                 happy           2001               4.03                                      no                     yes                  yes                       yes                                                 no\n",
      "46  05/07/2023 09:41:01                 Male   21                 Upset           2002               3.71                                     Yes                      No                   No                        No                                                 No\n",
      "47  05/07/2023 09:41:05              Female    22                 Anger           2001                4.1                               Am a girl                      No                  Yes                        No                                                 No\n",
      "48  05/07/2023 09:41:06                 Male   50                   Sad           1970                  5                                      No                      Jo                   No                       Yes                                                 No\n",
      "49  05/07/2023 09:41:07                 Male   19                 angry           2004                2.5                                      no                    none                 none                      none                                                yes\n",
      "50  05/07/2023 09:41:08                 Male   21                Happy            2001                  2                                      No                      No                 Yes                         No                                                 No\n",
      "51  05/07/2023 09:41:11                 Male   23                  Sad            2001                  4                                      No                     Yes                   No                        No                                                 No\n",
      "52  05/07/2023 09:41:18               female   21                 happy           2002                3.4                                      no                      no                   no                        no                                                 no\n",
      "53  05/07/2023 09:41:19                 Male   21                 happy           2002               4.26                                     Yes                      No                  Yes                        No                                                 No\n",
      "54  05/07/2023 09:41:20                 Male   20                Lonely           2002               3.75                                      No                      No                   No                        No                                                 No\n",
      "55  05/07/2023 09:41:25                 Male   22             Happiness           2000                4.1                                      No                      No                   No                        No                                                 No\n",
      "56  05/07/2023 09:41:30              Female    21                 Happy           2002                3.4                                      No                     Yes                   No                       Yes                                                 No\n",
      "57  05/07/2023 09:41:31                  Yes   23                Happy            2000                4.2                                      No                      No                   No                        No                                                 No\n",
      "58  05/07/2023 09:41:33                 male   21                sleepy           2002                3.6                                      no                      no                   no                        no                                                yes\n",
      "59  05/07/2023 09:41:35               Female   21                 tired           2002               3.85                                      no                      no            sometimes                        no                                                 no\n",
      "60  05/07/2023 09:41:36                 Male   23                stress           1999                3.1                                     yes                      no                   no                        no                                                 no\n",
      "61  05/07/2023 09:41:40                 Male   21                   Sad           2002               4.46                                      No                Probably            Sometimes                        No                                                 No\n",
      "62  05/07/2023 09:41:41               Female   21                 Happy           2002               3.18                                     Yes                      No                   No                        No                                                Yes\n",
      "63  05/07/2023 09:41:42                 male   21               unhappy           2002                  1                                      no                     yes                  yes                        no                                                 no\n",
      "64  05/07/2023 09:41:47              Female    21                   Sad           2001                  5                              Am a girl                       No                   No                     YesNo                                                 No\n",
      "65  05/07/2023 09:41:47               Female   21                 Happy           2002                3.8                                      No                      No                   No                       Yes                                                Yes\n",
      "66  05/07/2023 09:41:56               Female   22                 Happy           2001                4.5                                     Yes                      No                  Yes                        NO                                                Yes\n",
      "67  05/07/2023 09:41:58                 Male   30                   Sad     18/11/1993                2.5                                     yes                      no                  yes                        no                                                yes\n",
      "68  05/07/2023 09:42:04               Female   21                 Happy           2002               3.66                                      No                      No                   No                        No                                                 No\n",
      "69  05/07/2023 09:42:15                 male   22                 Happy           2001                4.8                                     Yes                    abit              not so                      never                                                yes\n",
      "70  05/07/2023 09:42:17               Female   21                Happy            2001                  4                                      No                      No                  Yes                        No                                                Yes\n",
      "71  05/07/2023 09:42:39                 Male   21                 happy           2002                4.9                                      No                      No                   No                        No                                                 No\n",
      "72  05/07/2023 09:42:48               female   23                 happy      5.10.2000                  3                                      no                      no                  yes                        no                                                 no\n",
      "73  05/07/2023 09:43:05               female   20                 happy           2002                4.2                                     yes                      no                  yes                        no                                                 no\n",
      "74  05/07/2023 09:43:05               Female   20                 Happy           2002                4.2                                      No                      No                   No                        No                                                 No\n",
      "75  05/07/2023 09:43:08                 Male   21                 happy           2002                4.5                                     yes                      No                   no                        no                                                 no\n",
      "76  05/07/2023 09:43:22                 Male   23                happy            2000               4.25                                      No                      No                   No                        No                                                 No\n",
      "77  05/07/2023 09:43:36               female   20                  care           2003               4.52                                     yes                      no             swimming                        no                                                 no\n",
      "79  05/07/2023 09:44:09              Female    20               Afraid            2003                3.9                                      No                      No                  Yes                        No                                                 No\n",
      "80  05/07/2023 09:44:14                 Male   22                Scared   10th/04/2001                  5                                     Yes                      No                   No                        No                                                Yes\n",
      "81  05/07/2023 09:44:15                 Male   21                HAPPY            2002                3.8                                      NO                     NO                    NO                        NO                                                 NO\n",
      "82  05/07/2023 09:44:35              Female    25                Happy            1998                3.4                                     Yes                      No                   No                       Yes                                                 No\n",
      "83  05/07/2023 09:45:13                 male   28                 angry           1995               3.11                                      no                      no                  yes                        no                                                yes\n",
      "84  05/07/2023 09:45:38              Female    20                   Sad           2003                3.5                                      No                      No                   No                        No                                                No \n",
      "85  05/07/2023 09:45:40                    M   22                 Happy           2001               3.79                                     Yes                      No                  Yes                        No                                                 No\n",
      "86  05/07/2023 09:49:52               female   21               excited           2002               4.83                                      no                      no                   no                       yes                                                 no\n",
      "87  05/07/2023 09:51:39              Female    22                   Joy           2001               2.79                                      No                      No            A little                         No                                                 No\n",
      "88  05/07/2023 09:51:52               Female   20                 happy           2002                  4                                      no                      no                   no                        no                                                 no\n",
      "89  05/07/2023 09:52:27               Female   21               Lonely   1st July 2002                3.3                                      No                      No                   No                        No                                                 No\n",
      "90  05/07/2023 09:52:57                 male   28                 happy           1995                2.3                                     yes                     yes                   no                        no                                                yes\n",
      "91  05/07/2023 09:53:52                 Male   22                 panic           2001               3.78                                     yes                     yes                  yes                       yes                                                yes\n",
      "92  05/07/2023 09:53:56              Female    68                   Sad           1953                4.8                                      No                     Yes                  Yes                       Yes                                                Yes\n",
      "93  05/07/2023 09:54:13                 Male   29               Hopeful           1994   I don't know yet              Sure, multiple girlfriends                      No                   No                        No                                                 No\n",
      "94  05/07/2023 09:54:28                 Male   22      Fighting poverty           2001               3.12                Girl friends are thieves                     Yes                  Yes                        No                                                 No\n",
      "95  05/07/2023 09:54:36                 Male   23          good and bad           2000                3.5                    Namiiro Zahara Bidin                      No                   No                        No                                                 No\n",
      "96  05/07/2023 09:54:52                 male   30                hunger           2023                  5                                     ARI                      no                 yeah                       nah                                               yeah\n"
     ]
    }
   ],
   "source": [
    "import pandas as pd\n",
    "\n",
    "df = pd.read_csv(\"./mboowa.csv\")\n",
    "df.dropna(inplace = True)\n",
    "\n",
    "print(df.to_string())"
   ]
  },
  {
   "attachments": {},
   "cell_type": "markdown",
   "metadata": {},
   "source": [
    "REMOVE DUPLICATES"
   ]
  },
  {
   "cell_type": "code",
   "execution_count": 17,
   "metadata": {},
   "outputs": [
    {
     "name": "stdout",
     "output_type": "stream",
     "text": [
      "0     False\n",
      "1     False\n",
      "2     False\n",
      "3     False\n",
      "4     False\n",
      "      ...  \n",
      "92    False\n",
      "93    False\n",
      "94    False\n",
      "95    False\n",
      "96    False\n",
      "Length: 96, dtype: bool\n"
     ]
    }
   ],
   "source": [
    "print(df.duplicated())"
   ]
  },
  {
   "attachments": {},
   "cell_type": "markdown",
   "metadata": {},
   "source": [
    "CLEANING EMPTY DATA"
   ]
  },
  {
   "cell_type": "code",
   "execution_count": 15,
   "metadata": {},
   "outputs": [
    {
     "name": "stdout",
     "output_type": "stream",
     "text": [
      "              Timestamp What is your gender?  Age What is your emotion?  Year of birth What is your CGPA? Do you have a Girl Friend or BOY Friend Do you have Depression? Do you have Anxiety? Do you have Panic attack? Did you have seek any specialist for a treatment? \n",
      "0   05/07/2023 09:38:39                 Male   21               Content           2002               4.22                                      No                      No                  Yes                       Yes                                                Yes\n",
      "1   05/07/2023 09:38:57        Marabou stock   45                 Weird           2100                8.9                                     Yes                     Yes                  Yes                       Yes                                                 No\n",
      "2   05/07/2023 09:39:09              Female    20                 Happy           2002               3.98                                      No                      No                  Yes                       Yes                                                 No\n",
      "3   05/07/2023 09:39:12                 Male   21                 Happy           2003               4.37                                      No                      No                   No                        No                                               Nope\n",
      "4   05/07/2023 09:39:14               Female   21                 Happy           2002               3.63                                      No                      No                   No                        No                                                 No\n",
      "5   05/07/2023 09:39:20               Female   23                Happy            2000                3.8                                      No                      No                   No                        No                                                 No\n",
      "6   05/07/2023 09:39:21               female   21            irritated            2001               3.88                                      no                      no                   no                      yes                                                 yes\n",
      "7   05/07/2023 09:39:23              Female    22  In a state of wonder           2001               3.79                                      No                      No                   No                        No                                               Nope\n",
      "8   05/07/2023 09:39:26                 Male   22                   Sad           2001                4.7                                     Yes                     Yes                   No                        No                                                 No\n",
      "9   05/07/2023 09:39:27               Female   20                 happy           2002                  4                                      No                      No                   No                       Yes                                                YES\n",
      "10  05/07/2023 09:39:28                 Male   24                 Happy           1998                3.9                                    Nope                    Nope                   No                     Naaah                                                 No\n",
      "11  05/07/2023 09:39:33               Female   21                 Moody           2001               3.56                                      No                      No                   No                        No                                                 No\n",
      "12  05/07/2023 09:39:38                 Male   25                 Happy           1998                  5                                     Yes                      No             I'm calm                        No                                                 No\n",
      "13  05/07/2023 09:39:40                 MALE   22                  fine           2001                  3                                     yes              don't know                  yes                        no                                                yes\n",
      "14  05/07/2023 09:39:45               FEMALE   22         TIRED FOR NOW           2001                  4                                      NO                      NO                KINDA                        NO                                                 NO\n",
      "15  05/07/2023 09:39:46                 Male   21                 Jolly           2002                4.5                                      No                      No                   No                        No                                                 No\n",
      "16  05/07/2023 09:39:46               Female   21                 happy           2002               4.68                                      no                      no                   no                        no                                                 no\n",
      "17  05/07/2023 09:39:47                 Male   22            Frustrated           2001                  5                                      No                      No                   No                        No                                                 No\n",
      "18  05/07/2023 09:39:49                 Male   28               Anxious           1995               4.28                                      No                      No                  Yes                       Yes                                                 No\n",
      "19  05/07/2023 09:39:50                 Male   21                   Sad           2002               3.76                                      No                      No                   No                        No                                                 No\n",
      "20  05/07/2023 09:39:54               FEMALE   19                 HAPPY           2004                2.1                                     YES                   MAYBE                  YES                        NO                                                 NO\n",
      "21  05/07/2023 09:39:56                 Male   22                 Happy           2000                3.7                                     Yes                      No                  yes                        No                                                 No\n",
      "22  05/07/2023 09:40:00                 Male   25                 Happy           1999                3.5                                      no                      no                   no                        no                                                yes\n",
      "23  05/07/2023 09:40:00                 male   20                  calm           2002                3.7                                     yes                      no                   no                        no                                                 no\n",
      "24  05/07/2023 09:40:01               Female   21                   sad           2001                3.8                                      no                      no                  yes                        no                                                 no\n",
      "25  05/07/2023 09:40:02               Female   20                 Happy           2022            4......                                      no                      no                   no                       yes                                                 no\n",
      "26  05/07/2023 09:40:08                 Male   21                   sad           2002                3.6                                      no                      no                   no                        no                                                 no\n",
      "27  05/07/2023 09:40:08                 Male   22              Not sure           2001               3.74                                      No                     Yes                  Yes                        No                                                 No\n",
      "28  05/07/2023 09:40:10              Female    21                Happy            2002               3.67                                      No                      No                  No                         No                                                Yes\n",
      "29  05/07/2023 09:40:10                 Male   22       I hate nosense            2001                3.5                                      No                     Yes                   No                        No                                                Yes\n",
      "30  05/07/2023 09:40:12                 Male   22                Joyful           2001               4.08                                     Yes                      No                   No                        No                                                 NO\n",
      "31  05/07/2023 09:40:13               Female   21           Nonchalant            2002                4.5                                     Yes                      No                   No                        No                                                 No\n",
      "32  05/07/2023 09:40:16                 male   23               excited           2000               4.16                                     yes                      no                   no                        no                                                 no\n",
      "33  05/07/2023 09:40:25                 male   21              stressed           2002                4.4                                     yes                      no                  yes                        no                                                 no\n",
      "34  05/07/2023 09:40:26                 Male   21               Relaxed           2001                4.5                                      No                      No                   No                        No                                                 No\n",
      "35  05/07/2023 09:40:27                 Male   22                Angry            1999                3.5                                    Yes                       No                   No                       No                                                  No\n",
      "36  05/07/2023 09:40:33                 male   23                   sad           1999                  4                                      no                      no                   no                        no                                                 no\n",
      "37  05/07/2023 09:40:34                 Male   23               leaning           2000                4.6                                      no                     yes                   no                        no                                                yes\n",
      "38  05/07/2023 09:40:40               Female   21             Disgusted           2002               3.92                                      No                      No                  Yes                        No                                                 No\n",
      "39  05/07/2023 09:40:42                 male   21                 happy           2002               3.87                                     yes                      no                   no                        no                                                 no\n",
      "40  05/07/2023 09:40:42              Female    20                 Tired           2002                1.3                                      No                      No                   No                       Yes                                                 No\n",
      "41  05/07/2023 09:40:46                 male   21                 happy           2001               4.65                                      no                     yes                  yes                        no                                                 no\n",
      "42  05/07/2023 09:40:47                 male   23                 happy           2000                3.5                                     yes                      no                  yes                        no                                                 no\n",
      "43  05/07/2023 09:40:54                 Male   20                   Sad           2001               4.74                                     Yes                     Yes                   No                        No                                                 No\n",
      "44  05/07/2023 09:40:59                 Male   21                   sad           2002                  4                                      no                      no                   no                        no                                                 no\n",
      "45  05/07/2023 09:41:00               female   21                 happy           2001               4.03                                      no                     yes                  yes                       yes                                                 no\n",
      "46  05/07/2023 09:41:01                 Male   21                 Upset           2002               3.71                                     Yes                      No                   No                        No                                                 No\n",
      "47  05/07/2023 09:41:05              Female    22                 Anger           2001                4.1                               Am a girl                      No                  Yes                        No                                                 No\n",
      "48  05/07/2023 09:41:06                 Male   50                   Sad           1970                  5                                      No                      Jo                   No                       Yes                                                 No\n",
      "49  05/07/2023 09:41:07                 Male   19                 angry           2004                2.5                                      no                    none                 none                      none                                                yes\n",
      "50  05/07/2023 09:41:08                 Male   21                Happy            2001                  2                                      No                      No                 Yes                         No                                                 No\n",
      "51  05/07/2023 09:41:11                 Male   23                  Sad            2001                  4                                      No                     Yes                   No                        No                                                 No\n",
      "52  05/07/2023 09:41:18               female   21                 happy           2002                3.4                                      no                      no                   no                        no                                                 no\n",
      "53  05/07/2023 09:41:19                 Male   21                 happy           2002               4.26                                     Yes                      No                  Yes                        No                                                 No\n",
      "54  05/07/2023 09:41:20                 Male   20                Lonely           2002               3.75                                      No                      No                   No                        No                                                 No\n",
      "55  05/07/2023 09:41:25                 Male   22             Happiness           2000                4.1                                      No                      No                   No                        No                                                 No\n",
      "56  05/07/2023 09:41:30              Female    21                 Happy           2002                3.4                                      No                     Yes                   No                       Yes                                                 No\n",
      "57  05/07/2023 09:41:31                  Yes   23                Happy            2000                4.2                                      No                      No                   No                        No                                                 No\n",
      "58  05/07/2023 09:41:33                 male   21                sleepy           2002                3.6                                      no                      no                   no                        no                                                yes\n",
      "59  05/07/2023 09:41:35               Female   21                 tired           2002               3.85                                      no                      no            sometimes                        no                                                 no\n",
      "60  05/07/2023 09:41:36                 Male   23                stress           1999                3.1                                     yes                      no                   no                        no                                                 no\n",
      "61  05/07/2023 09:41:40                 Male   21                   Sad           2002               4.46                                      No                Probably            Sometimes                        No                                                 No\n",
      "62  05/07/2023 09:41:41               Female   21                 Happy           2002               3.18                                     Yes                      No                   No                        No                                                Yes\n",
      "63  05/07/2023 09:41:42                 male   21               unhappy           2002                  1                                      no                     yes                  yes                        no                                                 no\n",
      "64  05/07/2023 09:41:47              Female    21                   Sad           2001                  5                              Am a girl                       No                   No                     YesNo                                                 No\n",
      "65  05/07/2023 09:41:47               Female   21                 Happy           2002                3.8                                      No                      No                   No                       Yes                                                Yes\n",
      "66  05/07/2023 09:41:56               Female   22                 Happy           2001                4.5                                     Yes                      No                  Yes                        NO                                                Yes\n",
      "67  05/07/2023 09:41:58                 Male   30                   Sad     18/11/1993                2.5                                     yes                      no                  yes                        no                                                yes\n",
      "68  05/07/2023 09:42:04               Female   21                 Happy           2002               3.66                                      No                      No                   No                        No                                                 No\n",
      "69  05/07/2023 09:42:15                 male   22                 Happy           2001                4.8                                     Yes                    abit              not so                      never                                                yes\n",
      "70  05/07/2023 09:42:17               Female   21                Happy            2001                  4                                      No                      No                  Yes                        No                                                Yes\n",
      "71  05/07/2023 09:42:39                 Male   21                 happy           2002                4.9                                      No                      No                   No                        No                                                 No\n",
      "72  05/07/2023 09:42:48               female   23                 happy      5.10.2000                  3                                      no                      no                  yes                        no                                                 no\n",
      "73  05/07/2023 09:43:05               female   20                 happy           2002                4.2                                     yes                      no                  yes                        no                                                 no\n",
      "74  05/07/2023 09:43:05               Female   20                 Happy           2002                4.2                                      No                      No                   No                        No                                                 No\n",
      "75  05/07/2023 09:43:08                 Male   21                 happy           2002                4.5                                     yes                      No                   no                        no                                                 no\n",
      "76  05/07/2023 09:43:22                 Male   23                happy            2000               4.25                                      No                      No                   No                        No                                                 No\n",
      "77  05/07/2023 09:43:36               female   20                  care           2003               4.52                                     yes                      no             swimming                        no                                                 no\n",
      "79  05/07/2023 09:44:09              Female    20               Afraid            2003                3.9                                      No                      No                  Yes                        No                                                 No\n",
      "80  05/07/2023 09:44:14                 Male   22                Scared   10th/04/2001                  5                                     Yes                      No                   No                        No                                                Yes\n",
      "81  05/07/2023 09:44:15                 Male   21                HAPPY            2002                3.8                                      NO                     NO                    NO                        NO                                                 NO\n",
      "82  05/07/2023 09:44:35              Female    25                Happy            1998                3.4                                     Yes                      No                   No                       Yes                                                 No\n",
      "83  05/07/2023 09:45:13                 male   28                 angry           1995               3.11                                      no                      no                  yes                        no                                                yes\n",
      "84  05/07/2023 09:45:38              Female    20                   Sad           2003                3.5                                      No                      No                   No                        No                                                No \n",
      "85  05/07/2023 09:45:40                    M   22                 Happy           2001               3.79                                     Yes                      No                  Yes                        No                                                 No\n",
      "86  05/07/2023 09:49:52               female   21               excited           2002               4.83                                      no                      no                   no                       yes                                                 no\n",
      "87  05/07/2023 09:51:39              Female    22                   Joy           2001               2.79                                      No                      No            A little                         No                                                 No\n",
      "88  05/07/2023 09:51:52               Female   20                 happy           2002                  4                                      no                      no                   no                        no                                                 no\n",
      "89  05/07/2023 09:52:27               Female   21               Lonely   1st July 2002                3.3                                      No                      No                   No                        No                                                 No\n",
      "90  05/07/2023 09:52:57                 male   28                 happy           1995                2.3                                     yes                     yes                   no                        no                                                yes\n",
      "91  05/07/2023 09:53:52                 Male   22                 panic           2001               3.78                                     yes                     yes                  yes                       yes                                                yes\n",
      "92  05/07/2023 09:53:56              Female    68                   Sad           1953                4.8                                      No                     Yes                  Yes                       Yes                                                Yes\n",
      "93  05/07/2023 09:54:13                 Male   29               Hopeful           1994   I don't know yet              Sure, multiple girlfriends                      No                   No                        No                                                 No\n",
      "94  05/07/2023 09:54:28                 Male   22      Fighting poverty           2001               3.12                Girl friends are thieves                     Yes                  Yes                        No                                                 No\n",
      "95  05/07/2023 09:54:36                 Male   23          good and bad           2000                3.5                    Namiiro Zahara Bidin                      No                   No                        No                                                 No\n",
      "96  05/07/2023 09:54:52                 male   30                hunger           2023                  5                                     ARI                      no                 yeah                       nah                                               yeah\n"
     ]
    }
   ],
   "source": [
    "import pandas as pd\n",
    "\n",
    "df = pd.read_csv(\"./mboowa.csv\")\n",
    "\n",
    "new_df = df.dropna()\n",
    "\n",
    "print(new_df.to_string())"
   ]
  },
  {
   "attachments": {},
   "cell_type": "markdown",
   "metadata": {},
   "source": [
    "PERCENTAGE OF THE MISSING VALUE"
   ]
  },
  {
   "cell_type": "code",
   "execution_count": 25,
   "metadata": {},
   "outputs": [
    {
     "name": "stdout",
     "output_type": "stream",
     "text": [
      "100.0\n"
     ]
    }
   ],
   "source": [
    "import pandas as pd\n",
    "\n",
    "df = pd.read_csv(\"./mboowa.csv\")\n",
    "percent= 100*(len(df.loc[:,df.isnull().sum(axis=0)>=1 ].index) / len(df.index))\n",
    "print(round(percent,2))"
   ]
  },
  {
   "attachments": {},
   "cell_type": "markdown",
   "metadata": {},
   "source": [
    "CHECK FOR UNIQUE VALUES\n",
    "\n",
    "for i in df2.columns:\n",
    " print(i,\"-----\",df2[i].unique(),\"----\",df2[i].unique())"
   ]
  },
  {
   "attachments": {},
   "cell_type": "markdown",
   "metadata": {},
   "source": []
  }
 ],
 "metadata": {
  "kernelspec": {
   "display_name": "Python 3",
   "language": "python",
   "name": "python3"
  },
  "language_info": {
   "codemirror_mode": {
    "name": "ipython",
    "version": 3
   },
   "file_extension": ".py",
   "mimetype": "text/x-python",
   "name": "python",
   "nbconvert_exporter": "python",
   "pygments_lexer": "ipython3",
   "version": "3.11.4"
  },
  "orig_nbformat": 4
 },
 "nbformat": 4,
 "nbformat_minor": 2
}
